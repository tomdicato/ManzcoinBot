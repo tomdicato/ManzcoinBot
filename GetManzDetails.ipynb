{
 "metadata": {
  "language_info": {
   "codemirror_mode": {
    "name": "ipython",
    "version": 3
   },
   "file_extension": ".py",
   "mimetype": "text/x-python",
   "name": "python",
   "nbconvert_exporter": "python",
   "pygments_lexer": "ipython3",
   "version": "3.9.4"
  },
  "orig_nbformat": 2,
  "kernelspec": {
   "name": "python394jvsc74a57bd07b28967027ab912e9730aea6ab5c5fab0478d2d9019ba0d7d97cb47e79f63886",
   "display_name": "Python 3.9.4 64-bit"
  },
  "metadata": {
   "interpreter": {
    "hash": "7b28967027ab912e9730aea6ab5c5fab0478d2d9019ba0d7d97cb47e79f63886"
   }
  }
 },
 "nbformat": 4,
 "nbformat_minor": 2,
 "cells": [
  {
   "cell_type": "code",
   "execution_count": 87,
   "metadata": {},
   "outputs": [],
   "source": [
    "import requests\n",
    "import json\n",
    "import pandas as pd\n",
    "from flatten_json import flatten_json\n",
    "import datetime\n",
    "import time\n",
    "pd.set_option('max_columns', None)"
   ]
  },
  {
   "cell_type": "code",
   "execution_count": 4,
   "metadata": {},
   "outputs": [],
   "source": [
    "# get list of events by collection\n",
    "import requests\n",
    "import json\n",
    "import pandas as pd\n",
    "\n",
    "url = \"https://api.opensea.io/api/v1/events\"\n",
    "\n",
    "collection_slug = \"manzcoin-nftz\"\n",
    "\n",
    "event_type = \"successful\"\n",
    "\n",
    "querystring = {\"collection_slug\":str(collection_slug),\"event_type\":str(event_type),\"only_opensea\":\"false\",\"offset\":\"0\",\"limit\":\"200\"}\n",
    "\n",
    "response = requests.request(\"GET\", url, params=querystring)\n",
    "\n",
    "response_dict = json.loads(response.text)\n",
    "\n",
    "df = pd.DataFrame.from_dict(response_dict['asset_events'])\n"
   ]
  },
  {
   "cell_type": "code",
   "execution_count": 54,
   "metadata": {},
   "outputs": [
    {
     "output_type": "execute_result",
     "data": {
      "text/plain": [
       "str"
      ]
     },
     "metadata": {},
     "execution_count": 54
    }
   ],
   "source": [
    "df_asset = pd.DataFrame([flatten_json(x) for x in df['asset']])[['id','image_url','image_preview_url','image_thumbnail_url','name']]\n",
    "\n",
    "df_seller = pd.DataFrame([flatten_json(x) for x in df['seller']])[['user_username','profile_img_url']]\n",
    "\n",
    "df_seller.rename(columns={'user_username':'seller_username','profile_img_url':'seller_profile_img_url'},inplace=True)\n",
    "\n",
    "df_buyer = pd.DataFrame([flatten_json(x) for x in df['winner_account']])[['user_username','profile_img_url']]\n",
    "\n",
    "df_buyer.rename(columns={'user_username':'buyer_username','profile_img_url':'buyer_profile_img_url'},inplace=True)\n",
    "\n",
    "df_transaction = pd.DataFrame([flatten_json(x) for x in df['transaction']])[['timestamp']]\n",
    "\n",
    "manz_tranz = pd.concat([df[['collection_slug','event_type','total_price']],df_asset,df_buyer,df_seller, df_transaction], axis=1)\n",
    "\n",
    "#manz_tranz\n",
    "\n",
    "manz_tranz.sort_values(by=['timestamp'],ascending=False, inplace=True)\n",
    "\n",
    "manz_tranz['total_price'] = manz_tranz['total_price'].apply(lambda x: int(x)*0.000000000000000001)\n",
    "\n",
    "#manz_tranz['timestamp']>\n",
    "\n",
    "#manz_tranz.to_csv(r'data/manz_sells.csv',index=False)"
   ]
  },
  {
   "cell_type": "code",
   "execution_count": 95,
   "metadata": {},
   "outputs": [
    {
     "output_type": "stream",
     "name": "stdout",
     "text": [
      "Bought Recently\n"
     ]
    }
   ],
   "source": [
    "import dateutil.parser\n",
    "\n",
    "time_to_check = '2021-04-02T20:20:25'\n",
    "\n",
    "yourdate = dateutil.parser.parse(time_to_check)\n",
    "#yourdate\n",
    "timestamp = datetime.datetime.now()\n",
    "\n",
    "elapsed = yourdate - timestamp\n",
    "\n",
    "if elapsed < datetime.timedelta(minutes=5):\n",
    "    print(\"Bought Recently\")\n",
    "else:\n",
    "    print(\"Too Old\")"
   ]
  },
  {
   "cell_type": "code",
   "execution_count": null,
   "metadata": {},
   "outputs": [],
   "source": []
  }
 ]
}